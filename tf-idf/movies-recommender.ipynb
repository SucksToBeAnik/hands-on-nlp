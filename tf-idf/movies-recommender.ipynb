{
 "cells": [
  {
   "cell_type": "markdown",
   "metadata": {},
   "source": [
    "[Dataset Link](https://www.kaggle.com/datasets/tmdb/tmdb-movie-metadata?select=tmdb_5000_movies.csv)"
   ]
  },
  {
   "cell_type": "code",
   "execution_count": 71,
   "metadata": {},
   "outputs": [
    {
     "data": {
      "text/plain": [
       "budget                                                          237000000\n",
       "genres                  [{\"id\": 28, \"name\": \"Action\"}, {\"id\": 12, \"nam...\n",
       "homepage                                      http://www.avatarmovie.com/\n",
       "id                                                                  19995\n",
       "keywords                [{\"id\": 1463, \"name\": \"culture clash\"}, {\"id\":...\n",
       "original_language                                                      en\n",
       "original_title                                                     Avatar\n",
       "overview                In the 22nd century, a paraplegic Marine is di...\n",
       "popularity                                                     150.437577\n",
       "production_companies    [{\"name\": \"Ingenious Film Partners\", \"id\": 289...\n",
       "production_countries    [{\"iso_3166_1\": \"US\", \"name\": \"United States o...\n",
       "release_date                                                   2009-12-10\n",
       "revenue                                                        2787965087\n",
       "runtime                                                             162.0\n",
       "spoken_languages        [{\"iso_639_1\": \"en\", \"name\": \"English\"}, {\"iso...\n",
       "status                                                           Released\n",
       "tagline                                       Enter the World of Pandora.\n",
       "title                                                              Avatar\n",
       "vote_average                                                          7.2\n",
       "vote_count                                                          11800\n",
       "Name: 0, dtype: object"
      ]
     },
     "execution_count": 71,
     "metadata": {},
     "output_type": "execute_result"
    }
   ],
   "source": [
    "import pandas as pd\n",
    "df= pd.read_csv(\"../datasets/tmdb_5000_movies.csv\")\n",
    "df.head()\n",
    "df.iloc[0]"
   ]
  },
  {
   "cell_type": "code",
   "execution_count": 72,
   "metadata": {},
   "outputs": [],
   "source": [
    "import json\n",
    "\n",
    "def concat_genre_keywords_overview(row:pd.Series):\n",
    "    title = row[\"title\"]\n",
    "    genres =json.loads(row[\"genres\"])\n",
    "    keywords = json.loads(row[\"keywords\"])\n",
    "    overview = row[\"overview\"]\n",
    "\n",
    "    genres= \" \".join(\"\".join(genre[\"name\"].split()) for genre in genres)\n",
    "    keywords = \" \".join(\"\".join(keyword[\"name\"].split()) for keyword in keywords)\n",
    "\n",
    "    return \"Genres of %s are %s. Some keywords for this movie are %s. A quick overview of this movie is %s\" % (title, genres, keywords, overview)"
   ]
  },
  {
   "cell_type": "code",
   "execution_count": 73,
   "metadata": {},
   "outputs": [
    {
     "data": {
      "text/plain": [
       "0    Genres of Avatar are Action Adventure Fantasy ...\n",
       "1    Genres of Pirates of the Caribbean: At World's...\n",
       "2    Genres of Spectre are Action Adventure Crime. ...\n",
       "3    Genres of The Dark Knight Rises are Action Cri...\n",
       "4    Genres of John Carter are Action Adventure Sci...\n",
       "Name: movie_details, dtype: object"
      ]
     },
     "execution_count": 73,
     "metadata": {},
     "output_type": "execute_result"
    }
   ],
   "source": [
    "df[\"movie_details\"] = df.apply(concat_genre_keywords_overview, axis=1)\n",
    "df.head()[\"movie_details\"]"
   ]
  },
  {
   "cell_type": "code",
   "execution_count": 74,
   "metadata": {},
   "outputs": [],
   "source": [
    "from sklearn.feature_extraction.text import TfidfVectorizer\n",
    "\n",
    "tfidf = TfidfVectorizer(stop_words=\"english\")\n",
    "tfidf_matrix = tfidf.fit_transform(df[\"movie_details\"])"
   ]
  },
  {
   "cell_type": "code",
   "execution_count": 75,
   "metadata": {},
   "outputs": [
    {
     "data": {
      "text/plain": [
       "array([[0., 0., 0., ..., 0., 0., 0.]], shape=(1, 28285))"
      ]
     },
     "execution_count": 75,
     "metadata": {},
     "output_type": "execute_result"
    }
   ],
   "source": [
    "movie2idx = pd.Series(df.index, index=df[\"title\"])\n",
    "test_movie_idx = movie2idx[\"Avatar\"]\n",
    "query_vec = tfidf_matrix[test_movie_idx]\n",
    "query_vec.toarray()"
   ]
  },
  {
   "cell_type": "code",
   "execution_count": 96,
   "metadata": {},
   "outputs": [],
   "source": [
    "from sklearn.metrics.pairwise import cosine_similarity\n",
    "\n",
    "def recommend_movies(query: str, n: int):\n",
    "    query_vec = tfidf.transform([query])\n",
    "    cosine_sim = cosine_similarity(query_vec, tfidf_matrix)\n",
    "    scores = cosine_sim.flatten()\n",
    "\n",
    "    top_n_movie_indices = (-scores).argsort()\n",
    "\n",
    "    recommendations = {\n",
    "        df.iloc[idx][\"title\"]: {\n",
    "            \"similarity_score\": f\"{int((float(scores[idx]) / 1) * 100)}%\"\n",
    "        }\n",
    "        for idx in top_n_movie_indices \n",
    "        if scores[idx] > 0\n",
    "    }\n",
    "\n",
    "    return {\n",
    "        \"query\": query,\n",
    "        \"recommendations\": dict(list(recommendations.items())[:n])\n",
    "    }\n"
   ]
  },
  {
   "cell_type": "code",
   "execution_count": 97,
   "metadata": {},
   "outputs": [
    {
     "name": "stdout",
     "output_type": "stream",
     "text": [
      "{'query': 'Space',\n",
      " 'recommendations': {\"Ender's Game\": {'similarity_score': '26%'},\n",
      "                     'Gravity': {'similarity_score': '27%'},\n",
      "                     'Lifeforce': {'similarity_score': '24%'},\n",
      "                     'Lost in Space': {'similarity_score': '37%'},\n",
      "                     'Space Chimps': {'similarity_score': '39%'},\n",
      "                     'Space Dogs': {'similarity_score': '32%'},\n",
      "                     'Space Pirate Captain Harlock': {'similarity_score': '46%'},\n",
      "                     'Treasure Planet': {'similarity_score': '29%'},\n",
      "                     'You Only Live Twice': {'similarity_score': '29%'},\n",
      "                     'Zathura: A Space Adventure': {'similarity_score': '31%'}}}\n"
     ]
    }
   ],
   "source": [
    "import pprint\n",
    "\n",
    "search_query = input(\"Enter your favourite movie to get recommendations: \")\n",
    "pprint.pprint(recommend_movies(search_query,10))"
   ]
  }
 ],
 "metadata": {
  "kernelspec": {
   "display_name": "venv",
   "language": "python",
   "name": "python3"
  },
  "language_info": {
   "codemirror_mode": {
    "name": "ipython",
    "version": 3
   },
   "file_extension": ".py",
   "mimetype": "text/x-python",
   "name": "python",
   "nbconvert_exporter": "python",
   "pygments_lexer": "ipython3",
   "version": "3.12.5"
  }
 },
 "nbformat": 4,
 "nbformat_minor": 2
}
